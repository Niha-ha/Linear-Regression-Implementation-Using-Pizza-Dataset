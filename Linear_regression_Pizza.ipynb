{
  "nbformat": 4,
  "nbformat_minor": 0,
  "metadata": {
    "colab": {
      "provenance": [],
      "authorship_tag": "ABX9TyNDF+cGtsD38kRwu/HYaraq",
      "include_colab_link": true
    },
    "kernelspec": {
      "name": "python3",
      "display_name": "Python 3"
    },
    "language_info": {
      "name": "python"
    }
  },
  "cells": [
    {
      "cell_type": "markdown",
      "metadata": {
        "id": "view-in-github",
        "colab_type": "text"
      },
      "source": [
        "<a href=\"https://colab.research.google.com/github/Niha-ha/Linear-Regression-Implementation-Using-Pizza-Dataset/blob/main/Linear_regression_Pizza.ipynb\" target=\"_parent\"><img src=\"https://colab.research.google.com/assets/colab-badge.svg\" alt=\"Open In Colab\"/></a>"
      ]
    },
    {
      "cell_type": "markdown",
      "source": [
        "# **Step 1 - Creating Dataset**"
      ],
      "metadata": {
        "id": "UogVpdME1uhK"
      }
    },
    {
      "cell_type": "code",
      "execution_count": 10,
      "metadata": {
        "colab": {
          "base_uri": "https://localhost:8080/"
        },
        "id": "yB7RqcMY45-0",
        "outputId": "818bcf58-f253-4d64-8c9b-108357065fa2"
      },
      "outputs": [
        {
          "output_type": "stream",
          "name": "stdout",
          "text": [
            "   size  price\n",
            "0     6    770\n",
            "1     8    990\n",
            "2    10   1150\n",
            "3    12   1350\n",
            "4    14   1525\n",
            "5    16   1790\n",
            "6    18   1980\n",
            "7    20   2150\n",
            "8    22   2330\n",
            "9    24   2540\n"
          ]
        }
      ],
      "source": [
        "import pandas as pd\n",
        "\n",
        "data = {\n",
        "    'size': [6, 8, 10, 12, 14, 16, 18, 20, 22, 24],\n",
        "    'price': [770, 990, 1150, 1350, 1525, 1790, 1980, 2150, 2330, 2540]\n",
        "}\n",
        "# creating pizza dataset\n",
        "\n",
        "df = pd.DataFrame(data)\n",
        "#converting to dataframe\n",
        "\n",
        "print(df)\n",
        "#showing the dataset"
      ]
    },
    {
      "cell_type": "markdown",
      "source": [
        "# **step 2 - Data visualization**"
      ],
      "metadata": {
        "id": "IwIdYy0K1_3s"
      }
    },
    {
      "cell_type": "code",
      "source": [
        "import matplotlib.pyplot as plt\n",
        "\n",
        "plt.scatter(df['size'], df['price'], color='blue', label='Data Points')\n",
        "# Create a scatter plot of pizza size vs price\n",
        "\n",
        "plt.xlabel('Size')\n",
        "# Set the x-axis label to \"Size\"\n",
        "\n",
        "plt.ylabel('Price')\n",
        "# Set the y-axis label to \"Price\"\n",
        "\n",
        "plt.title('Pizza Price vs Size')\n",
        "# Set the plot title to \"Pizza Price vs Size\"\n",
        "\n",
        "plt.show()\n",
        "# Display the scatter plot"
      ],
      "metadata": {
        "colab": {
          "base_uri": "https://localhost:8080/",
          "height": 472
        },
        "id": "mRm1PW7AYOxX",
        "outputId": "cc5c0882-9199-4f6a-acb1-705ba41201f2"
      },
      "execution_count": 11,
      "outputs": [
        {
          "output_type": "display_data",
          "data": {
            "text/plain": [
              "<Figure size 640x480 with 1 Axes>"
            ],
            "image/png": "[encoded data removed]"
          },
          "metadata": {}
        }
      ]
    },
    {
      "cell_type": "markdown",
      "source": [],
      "metadata": {
        "id": "BnBzZnZo4yv-"
      }
    },
    {
      "cell_type": "markdown",
      "source": [
        "# **step 3 - splitting input output data**"
      ],
      "metadata": {
        "id": "XBz6GnZf40rV"
      }
    },
    {
      "cell_type": "code",
      "source": [
        "from sklearn.model_selection import train_test_split\n",
        "# Import the train_test_split function from scikit-learn\n",
        "\n",
        "X = df[['size']]\n",
        "# Create a feature matrix X by selecting the 'size' column from the DataFrame\n",
        "\n",
        "y = df['price']\n",
        "# Create a target vector y by selecting the 'price' column from the DataFrame\n",
        "\n",
        "X_train, X_test, y_train, y_test = train_test_split(X, y, test_size=0.2, random_state=100)\n",
        "# Split the data into training and testing sets using the train_test_split function\n",
        "\n",
        "print(\"Training sizes:\", X_train)\n",
        "print(\"Training prices:\", y_train)\n",
        "print(\"Testing sizes:\", X_test)\n",
        "print(\"Testing prices:\", y_test)"
      ],
      "metadata": {
        "colab": {
          "base_uri": "https://localhost:8080/"
        },
        "id": "qybs9mRiCr25",
        "outputId": "5764585e-6315-4b3e-e234-3de979da33dc"
      },
      "execution_count": 16,
      "outputs": [
        {
          "output_type": "stream",
          "name": "stdout",
          "text": [
            "Training sizes:    size\n",
            "1     8\n",
            "5    16\n",
            "4    14\n",
            "2    10\n",
            "0     6\n",
            "3    12\n",
            "9    24\n",
            "8    22\n",
            "Training prices: 1     990\n",
            "5    1790\n",
            "4    1525\n",
            "2    1150\n",
            "0     770\n",
            "3    1350\n",
            "9    2540\n",
            "8    2330\n",
            "Name: price, dtype: int64\n",
            "Testing sizes:    size\n",
            "7    20\n",
            "6    18\n",
            "Testing prices: 7    2150\n",
            "6    1980\n",
            "Name: price, dtype: int64\n"
          ]
        }
      ]
    },
    {
      "cell_type": "code",
      "source": [
        "#step 4 - train the model\n",
        "\n",
        "from sklearn.linear_model import LinearRegression\n",
        "#import the linearregression model from sci-kit learn\n",
        "\n",
        "model = LinearRegression()\n",
        "#create the model\n",
        "\n",
        "model.fit(X_train.values.reshape(-1, 1), y_train)\n",
        "#train the model using the training data\n",
        "\n",
        "print(f\"model slope m :{ model.coef_[0]:.2f}\")\n",
        "print(f\"Model intercept (b): {model.intercept_:.2f}\")"
      ],
      "metadata": {
        "colab": {
          "base_uri": "https://localhost:8080/"
        },
        "id": "ZTrs8kSlrY6z",
        "outputId": "d643b269-9570-4b53-caba-a7c6d5ddfd27"
      },
      "execution_count": 17,
      "outputs": [
        {
          "output_type": "stream",
          "name": "stdout",
          "text": [
            "model slope m :97.99\n",
            "Model intercept (b): 183.82\n"
          ]
        }
      ]
    },
    {
      "cell_type": "code",
      "source": [
        "#step 5 - Making prediction\n",
        "\n",
        "\n",
        "y_pred = model.predict(X_test)\n",
        "#predict prices usinfg the model\n",
        "\n",
        "print(\"Test sizes:\\n\", X_test)\n",
        "print(\"Actual prices:\\n\", y_test)\n",
        "print(\"Predicted prices:\\n\", y_pred)\n",
        "# Let's compare predictions with real prices"
      ],
      "metadata": {
        "colab": {
          "base_uri": "https://localhost:8080/"
        },
        "id": "kLfDiJz7uMNn",
        "outputId": "dedbe666-032d-4fa3-b7d9-e130b9a1ac6c"
      },
      "execution_count": 18,
      "outputs": [
        {
          "output_type": "stream",
          "name": "stdout",
          "text": [
            "Test sizes:\n",
            "    size\n",
            "7    20\n",
            "6    18\n",
            "Actual prices:\n",
            " 7    2150\n",
            "6    1980\n",
            "Name: price, dtype: int64\n",
            "Predicted prices:\n",
            " [2143.54166667 1947.56944444]\n"
          ]
        },
        {
          "output_type": "stream",
          "name": "stderr",
          "text": [
            "/usr/local/lib/python3.11/dist-packages/sklearn/utils/validation.py:2732: UserWarning: X has feature names, but LinearRegression was fitted without feature names\n",
            "  warnings.warn(\n"
          ]
        }
      ]
    },
    {
      "cell_type": "code",
      "source": [
        "#Evaluate the model\n",
        "\n",
        "from sklearn.metrics import mean_squared_error, r2_score\n",
        "\n",
        "MSE=mean_squared_error(y_test, y_pred)\n",
        "#calcaulate MSE to see how far off the prediction from actual values\n",
        "\n",
        "r2=r2_score(y_test, y_pred)\n",
        "#calculate r^2 (coefficient) determines how well the model explains the variable in data\n",
        "\n",
        "print(f\"Mean Squared error: {MSE:.2f}\")\n",
        "print(f\"R^2:{r2:.2f}\")"
      ],
      "metadata": {
        "colab": {
          "base_uri": "https://localhost:8080/"
        },
        "id": "WJV63Jjfr20u",
        "outputId": "58e2383a-64f3-422c-a8a4-82718ffa381e"
      },
      "execution_count": 19,
      "outputs": [
        {
          "output_type": "stream",
          "name": "stdout",
          "text": [
            "Mean Squared error: 546.73\n",
            "R^2:0.92\n"
          ]
        }
      ]
    }
  ]
}