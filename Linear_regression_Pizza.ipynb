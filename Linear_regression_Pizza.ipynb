{
  "nbformat": 4,
  "nbformat_minor": 0,
  "metadata": {
    "colab": {
      "provenance": [],
      "authorship_tag": "ABX9TyMVYqRfNwivKwov2dRGi64P",
      "include_colab_link": true
    },
    "kernelspec": {
      "name": "python3",
      "display_name": "Python 3"
    },
    "language_info": {
      "name": "python"
    }
  },
  "cells": [
    {
      "cell_type": "markdown",
      "metadata": {
        "id": "view-in-github",
        "colab_type": "text"
      },
      "source": [
        "<a href=\"https://colab.research.google.com/github/Niha-ha/Linear-Regression-Implementation-Using-Pizza-Dataset/blob/main/Linear_regression_Pizza.ipynb\" target=\"_parent\"><img src=\"https://colab.research.google.com/assets/colab-badge.svg\" alt=\"Open In Colab\"/></a>"
      ]
    },
    {
      "cell_type": "code",
      "execution_count": 3,
      "metadata": {
        "colab": {
          "base_uri": "https://localhost:8080/"
        },
        "id": "yB7RqcMY45-0",
        "outputId": "14ae74b5-7bcd-4625-fc40-376afcef5daa"
      },
      "outputs": [
        {
          "output_type": "stream",
          "name": "stdout",
          "text": [
            "   size  price\n",
            "0     6    770\n",
            "1     8    990\n",
            "2    10   1430\n",
            "3    12   1650\n",
            "4    14   1925\n",
            "5    16   2090\n",
            "6    18   1980\n",
            "7    20   2200\n",
            "8    22   2530\n",
            "9    24   2640\n"
          ]
        }
      ],
      "source": [
        "import pandas as pd\n",
        "\n",
        "# creating pizza dataset below\n",
        "data = {\n",
        "    'size': [6, 8, 10, 12, 14, 16, 18, 20, 22, 24],\n",
        "    'price': [770, 990, 1430, 1650, 1925, 2090, 1980, 2200, 2530, 2640]\n",
        "}\n",
        "#converting to dataframe\n",
        "df = pd.DataFrame(data)\n",
        "#showing the dataset\n",
        "print(df)\n"
      ]
    },
    {
      "cell_type": "code",
      "source": [
        "import matplotlib.pyplot as plt\n",
        "# Import matplotlib.pyplot for creating visualizations\n",
        "\n",
        "plt.scatter(df['size'], df['price'], color='blue', label='Data Points')\n",
        "# Create a scatter plot of pizza size vs price\n",
        "\n",
        "plt.xlabel('Size')\n",
        "# Set the x-axis label to \"Size\"\n",
        "\n",
        "plt.ylabel('Price')\n",
        "# Set the y-axis label to \"Price\"\n",
        "\n",
        "plt.title('Pizza Price vs Size')\n",
        "# Set the plot title to \"Pizza Price vs Size\"\n",
        "\n",
        "plt.show()\n",
        "# Display the scatter plot"
      ],
      "metadata": {
        "colab": {
          "base_uri": "https://localhost:8080/",
          "height": 472
        },
        "id": "mRm1PW7AYOxX",
        "outputId": "aaad675b-fc66-44cf-e704-42e9c849fe3a"
      },
      "execution_count": 4,
      "outputs": [
        {
          "output_type": "display_data",
          "data": {
            "text/plain": [
              "<Figure size 640x480 with 1 Axes>"
            ],
            "image/png": "[encoded data removed]"
          },
          "metadata": {}
        }
      ]
    },
    {
      "cell_type": "code",
      "source": [
        "from sklearn.model_selection import train_test_split\n",
        "# Import the train_test_split function from scikit-learn\n",
        "\n",
        "X = df[['size']]\n",
        "# Create a feature matrix X by selecting the 'size' column from the DataFrame\n",
        "\n",
        "y = df['price']\n",
        "# Create a target vector y by selecting the 'price' column from the DataFrame\n",
        "\n",
        "X_train, X_test, y_train, y_test = train_test_split(X, y, test_size=0.4, random_state=0)\n",
        "# Split the data into training and testing sets using the train_test_split function\n",
        "\n",
        "print(\"Training sizes:\", X_train)\n",
        "print(\"Training prices:\", y_train)\n",
        "print(\"Testing sizes:\", X_test)\n",
        "print(\"Testing prices:\", y_test)"
      ],
      "metadata": {
        "colab": {
          "base_uri": "https://localhost:8080/"
        },
        "id": "qybs9mRiCr25",
        "outputId": "457cb7f3-4d66-4fcd-9903-cf8b426d0e5f"
      },
      "execution_count": 6,
      "outputs": [
        {
          "output_type": "stream",
          "name": "stdout",
          "text": [
            "Training sizes:    size\n",
            "1     8\n",
            "6    18\n",
            "7    20\n",
            "3    12\n",
            "0     6\n",
            "5    16\n",
            "Training prices: 1     990\n",
            "6    1980\n",
            "7    2200\n",
            "3    1650\n",
            "0     770\n",
            "5    2090\n",
            "Name: price, dtype: int64\n",
            "Testing sizes:    size\n",
            "2    10\n",
            "8    22\n",
            "4    14\n",
            "9    24\n",
            "Testing prices: 2    1430\n",
            "8    2530\n",
            "4    1925\n",
            "9    2640\n",
            "Name: price, dtype: int64\n"
          ]
        }
      ]
    },
    {
      "cell_type": "code",
      "source": [
        "from sklearn.linear_model import LinearRegression\n",
        "#import the linearregression model from sci-kit learn\n",
        "\n",
        "model = LinearRegression()\n",
        "#create the model\n",
        "\n",
        "model.fit(X_test, y_test)\n",
        "#train the model using the training data\n",
        "\n",
        "print(f\"model slope m :{ model.coef_[0]:.2f}\")\n",
        "print(f\"Model intercept (b): {model.intercept_:.2f}\")"
      ],
      "metadata": {
        "colab": {
          "base_uri": "https://localhost:8080/"
        },
        "id": "ZTrs8kSlrY6z",
        "outputId": "052e50b0-a3cc-432e-a028-d9f3ff8653a3"
      },
      "execution_count": 7,
      "outputs": [
        {
          "output_type": "stream",
          "name": "stdout",
          "text": [
            "model slope m :84.60\n",
            "Model intercept (b): 650.76\n"
          ]
        }
      ]
    },
    {
      "cell_type": "code",
      "source": [
        "y_pred = model.predict(X_test)\n",
        "#predict prices usinfg the model\n",
        "\n",
        "print(\"Test sizes:\\n\", X_test)\n",
        "print(\"Actual prices:\\n\", y_test.values)\n",
        "print(\"Predicted prices:\\n\", y_pred)\n",
        "# Let's compare predictions with real prices"
      ],
      "metadata": {
        "colab": {
          "base_uri": "https://localhost:8080/"
        },
        "id": "kLfDiJz7uMNn",
        "outputId": "b13876f6-e4cc-4de7-a096-add001d775c9"
      },
      "execution_count": 8,
      "outputs": [
        {
          "output_type": "stream",
          "name": "stdout",
          "text": [
            "Test sizes:\n",
            "    size\n",
            "2    10\n",
            "8    22\n",
            "4    14\n",
            "9    24\n",
            "Actual prices:\n",
            " [1430 2530 1925 2640]\n",
            "Predicted prices:\n",
            " [1496.75572519 2511.94656489 1835.15267176 2681.14503817]\n"
          ]
        }
      ]
    }
  ]
}