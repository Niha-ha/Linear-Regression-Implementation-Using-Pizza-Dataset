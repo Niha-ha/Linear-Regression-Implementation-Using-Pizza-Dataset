{
  "nbformat": 4,
  "nbformat_minor": 0,
  "metadata": {
    "colab": {
      "provenance": [],
      "authorship_tag": "ABX9TyMzzTJLnqarADt455jC0XkV",
      "include_colab_link": true
    },
    "kernelspec": {
      "name": "python3",
      "display_name": "Python 3"
    },
    "language_info": {
      "name": "python"
    }
  },
  "cells": [
    {
      "cell_type": "markdown",
      "metadata": {
        "id": "view-in-github",
        "colab_type": "text"
      },
      "source": [
        "<a href=\"https://colab.research.google.com/github/Niha-ha/Linear-Regression-Implementation-Using-Pizza-Dataset/blob/main/Linear_regression_Pizza.ipynb\" target=\"_parent\"><img src=\"https://colab.research.google.com/assets/colab-badge.svg\" alt=\"Open In Colab\"/></a>"
      ]
    },
    {
      "cell_type": "code",
      "execution_count": 7,
      "metadata": {
        "colab": {
          "base_uri": "https://localhost:8080/"
        },
        "id": "yB7RqcMY45-0",
        "outputId": "7d0aa26d-3e9a-4011-ae4b-d7c3946b9c7a"
      },
      "outputs": [
        {
          "output_type": "stream",
          "name": "stdout",
          "text": [
            "   size  price\n",
            "0     6    770\n",
            "1     8    990\n",
            "2    10   1430\n",
            "3    12   1650\n",
            "4    14   1925\n",
            "5    16   2090\n",
            "6    18   1980\n",
            "7    20   2200\n",
            "8    22   2530\n",
            "9    24   2640\n"
          ]
        }
      ],
      "source": [
        "import pandas as pd\n",
        "\n",
        "# creating pizza dataset below\n",
        "data = {\n",
        "    'size': [6, 8, 10, 12, 14, 16, 18, 20, 22, 24],\n",
        "    'price': [770, 990, 1430, 1650, 1925, 2090, 1980, 2200, 2530, 2640]\n",
        "}\n",
        "#converting to dataframe\n",
        "df = pd.DataFrame(data)\n",
        "#show the dataset\n",
        "print(df)\n"
      ]
    }
  ]
}