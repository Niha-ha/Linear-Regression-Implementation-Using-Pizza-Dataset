{
  "nbformat": 4,
  "nbformat_minor": 0,
  "metadata": {
    "colab": {
      "provenance": [],
      "authorship_tag": "ABX9TyMIFvdYHeIadwisLsDbs2SJ",
      "include_colab_link": true
    },
    "kernelspec": {
      "name": "python3",
      "display_name": "Python 3"
    },
    "language_info": {
      "name": "python"
    }
  },
  "cells": [
    {
      "cell_type": "markdown",
      "metadata": {
        "id": "view-in-github",
        "colab_type": "text"
      },
      "source": [
        "<a href=\"https://colab.research.google.com/github/Niha-ha/Linear-Regression-Implementation-Using-Pizza-Dataset/blob/main/Linear_regression_Pizza.ipynb\" target=\"_parent\"><img src=\"https://colab.research.google.com/assets/colab-badge.svg\" alt=\"Open In Colab\"/></a>"
      ]
    },
    {
      "cell_type": "markdown",
      "source": [
        "# **Step 1 - Creating Dataset**"
      ],
      "metadata": {
        "id": "UogVpdME1uhK"
      }
    },
    {
      "cell_type": "code",
      "execution_count": 43,
      "metadata": {
        "colab": {
          "base_uri": "https://localhost:8080/"
        },
        "id": "yB7RqcMY45-0",
        "outputId": "dd5fd8de-4f9f-41d7-b4ff-29524ab68caf"
      },
      "outputs": [
        {
          "output_type": "stream",
          "name": "stdout",
          "text": [
            "    size  price\n",
            "0      7    280\n",
            "1      8    320\n",
            "2      9    380\n",
            "3     10    450\n",
            "4     10    470\n",
            "5     11    500\n",
            "6     12    550\n",
            "7     12    580\n",
            "8     13    630\n",
            "9     14    700\n",
            "10    14    750\n",
            "11    15    790\n",
            "12    16    850\n"
          ]
        }
      ],
      "source": [
        "import pandas as pd\n",
        "\n",
        "data = {\n",
        "    'size': [7, 8, 9, 10, 10, 11, 12, 12, 13, 14, 14, 15, 16],\n",
        "    'price': [280, 320, 380, 450, 470, 500, 550, 580, 630, 700, 750, 790, 850]\n",
        "}\n",
        "# creating pizza dataset\n",
        "\n",
        "df = pd.DataFrame(data)\n",
        "#converting to dataframe\n",
        "\n",
        "print(df)\n",
        "#showing the dataset"
      ]
    },
    {
      "cell_type": "markdown",
      "source": [
        "# **step 2 - Data visualization**"
      ],
      "metadata": {
        "id": "IwIdYy0K1_3s"
      }
    },
    {
      "cell_type": "code",
      "source": [
        "import matplotlib.pyplot as plt\n",
        "\n",
        "plt.scatter(df['size'], df['price'], color='blue', label='Data Points')\n",
        "# Create a scatter plot of pizza size vs price\n",
        "\n",
        "plt.xlabel('Size')\n",
        "# Set the x-axis label to \"Size\"\n",
        "\n",
        "plt.ylabel('Price')\n",
        "# Set the y-axis label to \"Price\"\n",
        "\n",
        "plt.title('Pizza Price vs Size')\n",
        "# Set the plot title to \"Pizza Price vs Size\"\n",
        "\n",
        "plt.show()\n",
        "# Display the scatter plot"
      ],
      "metadata": {
        "colab": {
          "base_uri": "https://localhost:8080/",
          "height": 472
        },
        "id": "mRm1PW7AYOxX",
        "outputId": "7ffa79a8-e977-4f6b-b176-9f649f50f4d5"
      },
      "execution_count": 44,
      "outputs": [
        {
          "output_type": "display_data",
          "data": {
            "text/plain": [
              "<Figure size 640x480 with 1 Axes>"
            ],
            "image/png": "[encoded data removed]"
          },
          "metadata": {}
        }
      ]
    },
    {
      "cell_type": "markdown",
      "source": [
        "# **step 3 - splitting input output data**"
      ],
      "metadata": {
        "id": "XBz6GnZf40rV"
      }
    },
    {
      "cell_type": "code",
      "source": [
        "X = df[['size']]\n",
        "# Create a feature matrix X by selecting the 'size' column from the DataFrame\n",
        "\n",
        "y = df['price']\n",
        "# Create a target vector y by selecting the 'price' column from the DataFrame\n"
      ],
      "metadata": {
        "id": "qybs9mRiCr25"
      },
      "execution_count": 45,
      "outputs": []
    },
    {
      "cell_type": "markdown",
      "source": [
        "# **Step 4 - splitting train test data**"
      ],
      "metadata": {
        "id": "m5Q23Ecw5bDH"
      }
    },
    {
      "cell_type": "code",
      "source": [
        "from sklearn.model_selection import train_test_split\n",
        "\n",
        "X_train, X_test, y_train, y_test = train_test_split(X, y, test_size=0.2, random_state=10)\n",
        "# Split the data into training and testing sets using the train_test_split function\n",
        "\n",
        "print(\"Training sizes:\", X_train)\n",
        "print(\"Training prices:\", y_train)\n",
        "print(\"Testing sizes:\", X_test)\n",
        "print(\"Testing prices:\", y_test)"
      ],
      "metadata": {
        "colab": {
          "base_uri": "https://localhost:8080/"
        },
        "id": "9h_bbHTJ6Y7z",
        "outputId": "230c4462-b173-4778-ce08-964b7bf97eb4"
      },
      "execution_count": 46,
      "outputs": [
        {
          "output_type": "stream",
          "name": "stdout",
          "text": [
            "Training sizes:     size\n",
            "6     12\n",
            "8     13\n",
            "2      9\n",
            "12    16\n",
            "5     11\n",
            "10    14\n",
            "1      8\n",
            "0      7\n",
            "4     10\n",
            "9     14\n",
            "Training prices: 6     550\n",
            "8     630\n",
            "2     380\n",
            "12    850\n",
            "5     500\n",
            "10    750\n",
            "1     320\n",
            "0     280\n",
            "4     470\n",
            "9     700\n",
            "Name: price, dtype: int64\n",
            "Testing sizes:     size\n",
            "3     10\n",
            "7     12\n",
            "11    15\n",
            "Testing prices: 3     450\n",
            "7     580\n",
            "11    790\n",
            "Name: price, dtype: int64\n"
          ]
        }
      ]
    },
    {
      "cell_type": "markdown",
      "source": [
        "# **step 5 - Train the model**"
      ],
      "metadata": {
        "id": "VZYqP3yt8dSZ"
      }
    },
    {
      "cell_type": "code",
      "source": [
        "from sklearn.linear_model import LinearRegression\n",
        "#import the linearregression model from sci-kit learn\n",
        "\n",
        "model = LinearRegression()\n",
        "#create the model\n",
        "\n",
        "model.fit(X_test, y_test)\n",
        "#train the model using the training data\n",
        "\n",
        "print(f\"model slope m :{ model.coef_[0]:.2f}\")\n",
        "print(f\"Model intercept (b): {model.intercept_:.2f}\")"
      ],
      "metadata": {
        "colab": {
          "base_uri": "https://localhost:8080/"
        },
        "id": "ZTrs8kSlrY6z",
        "outputId": "a70b8ceb-1d59-40cf-b1db-463bf897a25f"
      },
      "execution_count": 50,
      "outputs": [
        {
          "output_type": "stream",
          "name": "stdout",
          "text": [
            "model slope m :68.16\n",
            "Model intercept (b): -233.95\n"
          ]
        }
      ]
    },
    {
      "cell_type": "markdown",
      "source": [
        "# **step 6 - Make prediction using the model**"
      ],
      "metadata": {
        "id": "zr1yVdHP8sIy"
      }
    },
    {
      "cell_type": "code",
      "source": [
        "y_train_pred = model.predict(X_train)\n",
        "#predict prices of trai data using the model\n",
        "\n",
        "y_test_pred = model.predict(X_test)\n",
        "#predict prices of test data\n",
        "\n",
        "print(\"Actual prices:\\n\", y_train)\n",
        "print(f\"Predicted prices:\\n\", y_train_pred.round(2))\n",
        "\n",
        "print(\"Actual prices:\\n\", y_test)\n",
        "print(f\"Predicted prices:\\n\", y_test_pred.round(2))\n",
        "# Let's compare predictions with real prices"
      ],
      "metadata": {
        "colab": {
          "base_uri": "https://localhost:8080/"
        },
        "id": "kLfDiJz7uMNn",
        "outputId": "ed9f7161-151e-455b-f4e2-ae043921a814"
      },
      "execution_count": 58,
      "outputs": [
        {
          "output_type": "stream",
          "name": "stdout",
          "text": [
            "Actual prices:\n",
            " 6     550\n",
            "8     630\n",
            "2     380\n",
            "12    850\n",
            "5     500\n",
            "10    750\n",
            "1     320\n",
            "0     280\n",
            "4     470\n",
            "9     700\n",
            "Name: price, dtype: int64\n",
            "Predicted prices:\n",
            " [583.95 652.11 379.47 856.58 515.79 720.26 311.32 243.16 447.63 720.26]\n",
            "Actual prices:\n",
            " 3     450\n",
            "7     580\n",
            "11    790\n",
            "Name: price, dtype: int64\n",
            "Predicted prices:\n",
            " [447.63 583.95 788.42]\n"
          ]
        }
      ]
    },
    {
      "cell_type": "markdown",
      "source": [
        "# **Evaluate the model**"
      ],
      "metadata": {
        "id": "1sHX1iNE_Q4R"
      }
    },
    {
      "cell_type": "code",
      "source": [
        "from sklearn.metrics import mean_squared_error, r2_score\n",
        "\n",
        "train_mse=mean_squared_error(y_train, y_train_pred)\n",
        "#calcaulate MSE to see how far off the prediction from actual values\n",
        "\n",
        "train_r2=r2_score(y_train, y_train_pred)\n",
        "#calculate r2 (coefficient) determines how well the model explains the variable in data\n",
        "\n",
        "test_mse=mean_squared_error(y_test, y_test_pred)\n",
        "#calcaulate MSE to see how far off the prediction from actual values\n",
        "\n",
        "test_r2=r2_score(y_test, y_test_pred)\n",
        "#calculate r2 (coefficient) determines how well the model explains the variable in data\n",
        "\n",
        "print(f\"Mean Squared error(train data): {train_mse:.2f}\")\n",
        "print(f\"R^2(train_data):{train_r2:.2f}\\n\")\n",
        "\n",
        "print(f\"Mean Squared error(test data): {test_mse:.2f}\")\n",
        "print(f\"R^2(test_data):{test_r2:.2f}\")"
      ],
      "metadata": {
        "colab": {
          "base_uri": "https://localhost:8080/"
        },
        "id": "WJV63Jjfr20u",
        "outputId": "6c40cedf-d4c2-41ec-d0c4-fb918de7333f"
      },
      "execution_count": 67,
      "outputs": [
        {
          "output_type": "stream",
          "name": "stdout",
          "text": [
            "Mean Squared error(train data): 516.19\n",
            "R^2(train_data):0.98\n",
            "\n",
            "Mean Squared error(test data): 7.89\n",
            "R^2(test_data):1.00\n"
          ]
        }
      ]
    }
  ]
}